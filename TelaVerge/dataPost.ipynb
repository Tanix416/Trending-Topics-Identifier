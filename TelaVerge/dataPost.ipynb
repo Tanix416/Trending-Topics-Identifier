{
 "cells": [
  {
   "cell_type": "markdown",
   "metadata": {},
   "source": [
    "Importing all Neccesery FrameWork"
   ]
  },
  {
   "cell_type": "code",
   "execution_count": 2,
   "metadata": {},
   "outputs": [],
   "source": [
    "import torch\n",
    "from transformers import BertTokenizer, BertModel\n",
    "from sklearn.cluster import KMeans\n",
    "import numpy as np"
   ]
  },
  {
   "cell_type": "code",
   "execution_count": 3,
   "metadata": {},
   "outputs": [],
   "source": [
    "post_list = []"
   ]
  },
  {
   "cell_type": "markdown",
   "metadata": {},
   "source": [
    "Reading Pintrest"
   ]
  },
  {
   "cell_type": "code",
   "execution_count": 4,
   "metadata": {},
   "outputs": [],
   "source": [
    "with open(\"output3.txt\",\"r\", encoding=\"utf-8\") as file:\n",
    "    dataList = file.readlines()\n",
    "dataList = [item.strip() for item in dataList]\n",
    "post_list.extend(dataList)"
   ]
  },
  {
   "cell_type": "markdown",
   "metadata": {},
   "source": [
    "Reading Twitter/X"
   ]
  },
  {
   "cell_type": "code",
   "execution_count": 5,
   "metadata": {},
   "outputs": [],
   "source": [
    "with open(\"output2.txt\",\"r\", encoding=\"utf-8\") as file:\n",
    "    dataList = file.readlines()\n",
    "dataList = [item.strip() for item in dataList]\n",
    "post_list.extend(dataList)"
   ]
  },
  {
   "cell_type": "markdown",
   "metadata": {},
   "source": [
    "Reading Thread"
   ]
  },
  {
   "cell_type": "code",
   "execution_count": 6,
   "metadata": {},
   "outputs": [],
   "source": [
    "with open(\"output1.txt\",\"r\", encoding=\"utf-8\") as file:\n",
    "    dataList = file.readlines()\n",
    "dataList = [item.strip() for item in dataList]\n",
    "post_list.extend(dataList)"
   ]
  },
  {
   "cell_type": "markdown",
   "metadata": {},
   "source": [
    "Using Kmeans Clustaring"
   ]
  },
  {
   "cell_type": "code",
   "execution_count": 7,
   "metadata": {},
   "outputs": [
    {
     "name": "stderr",
     "output_type": "stream",
     "text": [
      "c:\\Users\\User\\AppData\\Local\\Programs\\Python\\Python311\\Lib\\site-packages\\sklearn\\cluster\\_kmeans.py:1416: FutureWarning: The default value of `n_init` will change from 10 to 'auto' in 1.4. Set the value of `n_init` explicitly to suppress the warning\n",
      "  super()._check_params_vs_input(X, default_n_init=10)\n"
     ]
    }
   ],
   "source": [
    "def extract_topics_bert(posts, num_clusters=5):\n",
    "    # Load pre-trained BERT model and tokenizer\n",
    "    model_name = 'bert-base-uncased'\n",
    "    tokenizer = BertTokenizer.from_pretrained(model_name)\n",
    "    model = BertModel.from_pretrained(model_name)\n",
    "\n",
    "    # Tokenize and encode the posts\n",
    "    encoded_posts = tokenizer(posts, return_tensors='pt', padding=True, truncation=True)\n",
    "\n",
    "    # Get model output embeddings\n",
    "    with torch.no_grad():\n",
    "        outputs = model(**encoded_posts)\n",
    "        embeddings = outputs['last_hidden_state'][:, 0, :].numpy()\n",
    "\n",
    "    # Use KMeans clustering to identify topics\n",
    "    kmeans = KMeans(n_clusters=num_clusters, random_state=42)\n",
    "    cluster_assignments = kmeans.fit_predict(embeddings)\n",
    "\n",
    "    # Display the posts assigned to each cluster\n",
    "    clusters = {}\n",
    "    for i, post in enumerate(posts):\n",
    "        cluster = cluster_assignments[i]\n",
    "        if cluster not in clusters:\n",
    "            clusters[cluster] = [post]\n",
    "        else:\n",
    "            clusters[cluster].append(post)\n",
    "\n",
    "    #for cluster, posts in clusters.items():\n",
    "    #    print(f\"Cluster {cluster + 1} Topics:\")\n",
    "    #    for post in posts:\n",
    "    #        print(f\"- {post}\")\n",
    "    return clusters\n",
    "\n",
    "\n",
    "postAll = extract_topics_bert(post_list)"
   ]
  },
  {
   "cell_type": "code",
   "execution_count": 8,
   "metadata": {},
   "outputs": [
    {
     "data": {
      "text/plain": [
       "[['espresso machine',\n",
       "  'sewing machine for beginners',\n",
       "  'breville espresso machine',\n",
       "  'bread machine cinnamon rolls',\n",
       "  'knitting machine patterns',\n",
       "  'machine embroidery',\n",
       "  'sentro knitting machine projects',\n",
       "  'bread machine rolls',\n",
       "  'rowing machine workout',\n",
       "  'diy gumball machine',\n",
       "  'knitting machine projects',\n",
       "  'embroidery machine projects',\n",
       "  'gluten free bread machine recipes',\n",
       "  'rube goldberg machine',\n",
       "  'tattoo machine'],\n",
       " ['sewing machine',\n",
       "  'embroidery machine',\n",
       "  'bread machine bread',\n",
       "  'bread machine',\n",
       "  'smith machine workout',\n",
       "  'knitting machine',\n",
       "  'bread machine recipes easy',\n",
       "  'machine',\n",
       "  'bread machine recipes',\n",
       "  'bubble machine',\n",
       "  'coffee machine',\n",
       "  'bread recipes for bread machine',\n",
       "  'washing machine',\n",
       "  'bendy and the ink machine',\n",
       "  'Washing Machine Cleaner Descaler 24 Pack',\n",
       "  'abandoned']]"
      ]
     },
     "execution_count": 8,
     "metadata": {},
     "output_type": "execute_result"
    }
   ],
   "source": [
    "i = 0\n",
    "postList = []\n",
    "for item,post in postAll.items():\n",
    "    postList.append(post)\n",
    "    i += 1\n",
    "    if(i == 2):\n",
    "        break\n",
    "postList"
   ]
  },
  {
   "cell_type": "code",
   "execution_count": 9,
   "metadata": {},
   "outputs": [],
   "source": [
    "postAllList = [item for sublist in postList for item in sublist]\n",
    "postAllList = postAllList[:15]"
   ]
  },
  {
   "cell_type": "code",
   "execution_count": 11,
   "metadata": {},
   "outputs": [],
   "source": [
    "with open(\"post.txt\",\"w\", encoding=\"utf-8\") as file:\n",
    "    for post in postAllList:\n",
    "        file.write(str(post) + \"\\n\")"
   ]
  }
 ],
 "metadata": {
  "kernelspec": {
   "display_name": "Python 3",
   "language": "python",
   "name": "python3"
  },
  "language_info": {
   "codemirror_mode": {
    "name": "ipython",
    "version": 3
   },
   "file_extension": ".py",
   "mimetype": "text/x-python",
   "name": "python",
   "nbconvert_exporter": "python",
   "pygments_lexer": "ipython3",
   "version": "3.11.0"
  }
 },
 "nbformat": 4,
 "nbformat_minor": 2
}
